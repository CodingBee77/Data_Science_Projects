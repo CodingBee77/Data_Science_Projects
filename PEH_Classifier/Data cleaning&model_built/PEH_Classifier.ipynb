{
 "cells": [
  {
   "cell_type": "markdown",
   "metadata": {},
   "source": [
    "# Imports"
   ]
  },
  {
   "cell_type": "code",
   "execution_count": 1,
   "metadata": {},
   "outputs": [],
   "source": [
    "import numpy as np\n",
    "import pandas as pd\n",
    "from matplotlib import pyplot as plt\n",
    "import seaborn as sns\n",
    "from matplotlib import cm\n",
    "from sklearn.model_selection import train_test_split\n",
    "from sklearn.neighbors import KNeighborsClassifier \n",
    "from sklearn import metrics\n",
    "from sklearn.svm import SVC \n",
    "from sklearn.tree import DecisionTreeClassifier \n",
    "from sklearn.metrics import confusion_matrix \n",
    "from sklearn.ensemble import RandomForestClassifier\n",
    "from sklearn.metrics import plot_confusion_matrix\n",
    "from xgboost import XGBClassifier\n",
    "from sklearn.model_selection import GridSearchCV\n",
    "from sklearn.neural_network import MLPClassifier"
   ]
  },
  {
   "cell_type": "markdown",
   "metadata": {},
   "source": [
    "# Read csv files as dataframe"
   ]
  },
  {
   "cell_type": "code",
   "execution_count": 2,
   "metadata": {},
   "outputs": [],
   "source": [
    "df_npk = pd.read_csv('../Data_collection/Hair_cosmetics_by_PEH_napieknewlosy.csv')\n",
    "df_l = pd.read_csv('../Data_collection/Hair_cosmetics_by_PEH_loczek.csv')"
   ]
  },
  {
   "cell_type": "code",
   "execution_count": 3,
   "metadata": {},
   "outputs": [],
   "source": [
    "#For editing purpose you can uncomment below lines to show full dataframes\n",
    "# pd.set_option(\"display.max_rows\", None)\n",
    "# pd.set_option(\"display.max_columns\", None)"
   ]
  },
  {
   "cell_type": "code",
   "execution_count": 4,
   "metadata": {},
   "outputs": [
    {
     "data": {
      "text/html": [
       "<div>\n",
       "<style scoped>\n",
       "    .dataframe tbody tr th:only-of-type {\n",
       "        vertical-align: middle;\n",
       "    }\n",
       "\n",
       "    .dataframe tbody tr th {\n",
       "        vertical-align: top;\n",
       "    }\n",
       "\n",
       "    .dataframe thead th {\n",
       "        text-align: right;\n",
       "    }\n",
       "</style>\n",
       "<table border=\"1\" class=\"dataframe\">\n",
       "  <thead>\n",
       "    <tr style=\"text-align: right;\">\n",
       "      <th></th>\n",
       "      <th>Unnamed: 0</th>\n",
       "      <th>inci</th>\n",
       "      <th>title</th>\n",
       "      <th>peh_class</th>\n",
       "    </tr>\n",
       "  </thead>\n",
       "  <tbody>\n",
       "    <tr>\n",
       "      <th>0</th>\n",
       "      <td>0</td>\n",
       "      <td>Aqua [Water],Cetyl alcohol,Behenamidopropyl d...</td>\n",
       "      <td>ALKEMILLA Balsamo Arancio e Limone Odżywka do ...</td>\n",
       "      <td>E</td>\n",
       "    </tr>\n",
       "    <tr>\n",
       "      <th>1</th>\n",
       "      <td>1</td>\n",
       "      <td>Aqua [Water],Cetyl alcohol,Behenamidopropyl d...</td>\n",
       "      <td>ALKEMILLA Balsamo Cedro e Finocchio Odżywka do...</td>\n",
       "      <td>E</td>\n",
       "    </tr>\n",
       "    <tr>\n",
       "      <th>2</th>\n",
       "      <td>2</td>\n",
       "      <td>Aqua [Water], Cetyl alcohol, Behenamidopropyl...</td>\n",
       "      <td>ALKEMILLA Balsamo Lavendo e Eucalipto Odżywka ...</td>\n",
       "      <td>E</td>\n",
       "    </tr>\n",
       "    <tr>\n",
       "      <th>3</th>\n",
       "      <td>3</td>\n",
       "      <td>Aqua [Water] (Eau), Cetyl alcohol, Stearyl al...</td>\n",
       "      <td>ALKEMILLA K-HAIR Anti-Giallo Odżywka ochładzaj...</td>\n",
       "      <td>E</td>\n",
       "    </tr>\n",
       "    <tr>\n",
       "      <th>4</th>\n",
       "      <td>4</td>\n",
       "      <td>Aqua [Water] (Eau), Stearyl alcohol, Behenami...</td>\n",
       "      <td>ALKEMILLA K-HAIR Multiwitaminowa maska do włos...</td>\n",
       "      <td>E</td>\n",
       "    </tr>\n",
       "    <tr>\n",
       "      <th>...</th>\n",
       "      <td>...</td>\n",
       "      <td>...</td>\n",
       "      <td>...</td>\n",
       "      <td>...</td>\n",
       "    </tr>\n",
       "    <tr>\n",
       "      <th>275</th>\n",
       "      <td>52</td>\n",
       "      <td>Aqua, Cetearyl Alcohol, Glycerin, Behenamidop...</td>\n",
       "      <td>VIS PLANTIS Odżywka do włosów osłabionych z te...</td>\n",
       "      <td>H</td>\n",
       "    </tr>\n",
       "    <tr>\n",
       "      <th>276</th>\n",
       "      <td>53</td>\n",
       "      <td>Aqua, Cetearyl Alcohol, Glycerin, Behenamidop...</td>\n",
       "      <td>VIS PLANTIS Odżywka do włosów osłabionych zabi...</td>\n",
       "      <td>H</td>\n",
       "    </tr>\n",
       "    <tr>\n",
       "      <th>277</th>\n",
       "      <td>54</td>\n",
       "      <td>Aqua, Cetearyl Alcohol, Glycerin, Behenamidop...</td>\n",
       "      <td>VIS PLANTIS Odżywka do włosów suchych i matowy...</td>\n",
       "      <td>H</td>\n",
       "    </tr>\n",
       "    <tr>\n",
       "      <th>278</th>\n",
       "      <td>55</td>\n",
       "      <td>Aqua, Cetearyl Alcohol, Behenamidopropyl Dime...</td>\n",
       "      <td>VIS PLANTIS Odżywka do włosów z tendencją do p...</td>\n",
       "      <td>H</td>\n",
       "    </tr>\n",
       "    <tr>\n",
       "      <th>279</th>\n",
       "      <td>56</td>\n",
       "      <td>Aqua,  Aloe Barbadensis Leaf Juice, Cetearyl ...</td>\n",
       "      <td>YOPE Odżywka Świeża Trawa do włosów przetłuszc...</td>\n",
       "      <td>H</td>\n",
       "    </tr>\n",
       "  </tbody>\n",
       "</table>\n",
       "<p>280 rows × 4 columns</p>\n",
       "</div>"
      ],
      "text/plain": [
       "     Unnamed: 0                                               inci  \\\n",
       "0             0   Aqua [Water],Cetyl alcohol,Behenamidopropyl d...   \n",
       "1             1   Aqua [Water],Cetyl alcohol,Behenamidopropyl d...   \n",
       "2             2   Aqua [Water], Cetyl alcohol, Behenamidopropyl...   \n",
       "3             3   Aqua [Water] (Eau), Cetyl alcohol, Stearyl al...   \n",
       "4             4   Aqua [Water] (Eau), Stearyl alcohol, Behenami...   \n",
       "..          ...                                                ...   \n",
       "275          52   Aqua, Cetearyl Alcohol, Glycerin, Behenamidop...   \n",
       "276          53   Aqua, Cetearyl Alcohol, Glycerin, Behenamidop...   \n",
       "277          54   Aqua, Cetearyl Alcohol, Glycerin, Behenamidop...   \n",
       "278          55   Aqua, Cetearyl Alcohol, Behenamidopropyl Dime...   \n",
       "279          56   Aqua,  Aloe Barbadensis Leaf Juice, Cetearyl ...   \n",
       "\n",
       "                                                 title peh_class  \n",
       "0    ALKEMILLA Balsamo Arancio e Limone Odżywka do ...         E  \n",
       "1    ALKEMILLA Balsamo Cedro e Finocchio Odżywka do...         E  \n",
       "2    ALKEMILLA Balsamo Lavendo e Eucalipto Odżywka ...         E  \n",
       "3    ALKEMILLA K-HAIR Anti-Giallo Odżywka ochładzaj...         E  \n",
       "4    ALKEMILLA K-HAIR Multiwitaminowa maska do włos...         E  \n",
       "..                                                 ...       ...  \n",
       "275  VIS PLANTIS Odżywka do włosów osłabionych z te...         H  \n",
       "276  VIS PLANTIS Odżywka do włosów osłabionych zabi...         H  \n",
       "277  VIS PLANTIS Odżywka do włosów suchych i matowy...         H  \n",
       "278  VIS PLANTIS Odżywka do włosów z tendencją do p...         H  \n",
       "279  YOPE Odżywka Świeża Trawa do włosów przetłuszc...         H  \n",
       "\n",
       "[280 rows x 4 columns]"
      ]
     },
     "execution_count": 4,
     "metadata": {},
     "output_type": "execute_result"
    }
   ],
   "source": [
    "df_npk"
   ]
  },
  {
   "cell_type": "code",
   "execution_count": 5,
   "metadata": {},
   "outputs": [
    {
     "data": {
      "text/html": [
       "<div>\n",
       "<style scoped>\n",
       "    .dataframe tbody tr th:only-of-type {\n",
       "        vertical-align: middle;\n",
       "    }\n",
       "\n",
       "    .dataframe tbody tr th {\n",
       "        vertical-align: top;\n",
       "    }\n",
       "\n",
       "    .dataframe thead th {\n",
       "        text-align: right;\n",
       "    }\n",
       "</style>\n",
       "<table border=\"1\" class=\"dataframe\">\n",
       "  <thead>\n",
       "    <tr style=\"text-align: right;\">\n",
       "      <th></th>\n",
       "      <th>Unnamed: 0</th>\n",
       "      <th>inci</th>\n",
       "      <th>title</th>\n",
       "      <th>peh_class</th>\n",
       "    </tr>\n",
       "  </thead>\n",
       "  <tbody>\n",
       "    <tr>\n",
       "      <th>0</th>\n",
       "      <td>0</td>\n",
       "      <td>Water (Aqua/Eau),Carbomer,Polysorbate-20,VP/VA...</td>\n",
       "      <td>CANTU MOISTURE RETENTION STYLING GEL- żel utrz...</td>\n",
       "      <td>E</td>\n",
       "    </tr>\n",
       "    <tr>\n",
       "      <th>1</th>\n",
       "      <td>1</td>\n",
       "      <td>Water (Aqua),Eau),Glycerin,Fragrance (Parfum),...</td>\n",
       "      <td>CANTU SHEA BUTTER COCONUT OIL SHINE &amp; HOLD MIS...</td>\n",
       "      <td>E</td>\n",
       "    </tr>\n",
       "    <tr>\n",
       "      <th>2</th>\n",
       "      <td>2</td>\n",
       "      <td>Water (Aqua/Eau),Polyquaternium-37,Cyclopentas...</td>\n",
       "      <td>Tigi Catwalk Curls Rock Amplifier – krem styli...</td>\n",
       "      <td>E</td>\n",
       "    </tr>\n",
       "    <tr>\n",
       "      <th>3</th>\n",
       "      <td>3</td>\n",
       "      <td>Aqua (Water),Cetearyl Alcohol,Cetrimonium Chlo...</td>\n",
       "      <td>INSIGHT ENERGIZING MASK – emolientowa maska do...</td>\n",
       "      <td>E</td>\n",
       "    </tr>\n",
       "    <tr>\n",
       "      <th>4</th>\n",
       "      <td>4</td>\n",
       "      <td>Aqua,Cetearyl Alcohol,Myristyl Alcohol,Cetrimo...</td>\n",
       "      <td>DR. SANTE COCONUT HAIR Z OLEJEM KOKOSOWYM – ma...</td>\n",
       "      <td>E</td>\n",
       "    </tr>\n",
       "    <tr>\n",
       "      <th>...</th>\n",
       "      <td>...</td>\n",
       "      <td>...</td>\n",
       "      <td>...</td>\n",
       "      <td>...</td>\n",
       "    </tr>\n",
       "    <tr>\n",
       "      <th>298</th>\n",
       "      <td>122</td>\n",
       "      <td>Aloe Barbadensis (Aloe Vera) Leaf Juice,Nelumb...</td>\n",
       "      <td>Holika Holika – wielofunkcyjny, nawilżający że...</td>\n",
       "      <td>H</td>\n",
       "    </tr>\n",
       "    <tr>\n",
       "      <th>299</th>\n",
       "      <td>123</td>\n",
       "      <td>Aqua,Sodium Hyaluronate,Benzyl Alcohol,Dehydro...</td>\n",
       "      <td>Calaya – nawilżający żel hialuronowy, 2% (50 ml)</td>\n",
       "      <td>H</td>\n",
       "    </tr>\n",
       "    <tr>\n",
       "      <th>300</th>\n",
       "      <td>124</td>\n",
       "      <td>Aqua,Sapindus Mukurossi Peel Floral Water,Humu...</td>\n",
       "      <td>FITOKOSMETIK DROŻDŻE PIWNE AKTYWATOR WZROSTU –...</td>\n",
       "      <td>H</td>\n",
       "    </tr>\n",
       "    <tr>\n",
       "      <th>301</th>\n",
       "      <td>125</td>\n",
       "      <td>Linum Usitatissimum (Linseed) Seed Extract,Gly...</td>\n",
       "      <td>JESSICURL Rockin’ Ringlets Styling Potion No F...</td>\n",
       "      <td>H</td>\n",
       "    </tr>\n",
       "    <tr>\n",
       "      <th>302</th>\n",
       "      <td>126</td>\n",
       "      <td>Aqua (Water),Linum Usitatissimum (Linseed) See...</td>\n",
       "      <td>JESSICURL Gelebration Spray – krem do stylizac...</td>\n",
       "      <td>H</td>\n",
       "    </tr>\n",
       "  </tbody>\n",
       "</table>\n",
       "<p>303 rows × 4 columns</p>\n",
       "</div>"
      ],
      "text/plain": [
       "     Unnamed: 0                                               inci  \\\n",
       "0             0  Water (Aqua/Eau),Carbomer,Polysorbate-20,VP/VA...   \n",
       "1             1  Water (Aqua),Eau),Glycerin,Fragrance (Parfum),...   \n",
       "2             2  Water (Aqua/Eau),Polyquaternium-37,Cyclopentas...   \n",
       "3             3  Aqua (Water),Cetearyl Alcohol,Cetrimonium Chlo...   \n",
       "4             4  Aqua,Cetearyl Alcohol,Myristyl Alcohol,Cetrimo...   \n",
       "..          ...                                                ...   \n",
       "298         122  Aloe Barbadensis (Aloe Vera) Leaf Juice,Nelumb...   \n",
       "299         123  Aqua,Sodium Hyaluronate,Benzyl Alcohol,Dehydro...   \n",
       "300         124  Aqua,Sapindus Mukurossi Peel Floral Water,Humu...   \n",
       "301         125  Linum Usitatissimum (Linseed) Seed Extract,Gly...   \n",
       "302         126  Aqua (Water),Linum Usitatissimum (Linseed) See...   \n",
       "\n",
       "                                                 title peh_class  \n",
       "0    CANTU MOISTURE RETENTION STYLING GEL- żel utrz...         E  \n",
       "1    CANTU SHEA BUTTER COCONUT OIL SHINE & HOLD MIS...         E  \n",
       "2    Tigi Catwalk Curls Rock Amplifier – krem styli...         E  \n",
       "3    INSIGHT ENERGIZING MASK – emolientowa maska do...         E  \n",
       "4    DR. SANTE COCONUT HAIR Z OLEJEM KOKOSOWYM – ma...         E  \n",
       "..                                                 ...       ...  \n",
       "298  Holika Holika – wielofunkcyjny, nawilżający że...         H  \n",
       "299   Calaya – nawilżający żel hialuronowy, 2% (50 ml)         H  \n",
       "300  FITOKOSMETIK DROŻDŻE PIWNE AKTYWATOR WZROSTU –...         H  \n",
       "301  JESSICURL Rockin’ Ringlets Styling Potion No F...         H  \n",
       "302  JESSICURL Gelebration Spray – krem do stylizac...         H  \n",
       "\n",
       "[303 rows x 4 columns]"
      ]
     },
     "execution_count": 5,
     "metadata": {},
     "output_type": "execute_result"
    }
   ],
   "source": [
    "df_l"
   ]
  },
  {
   "cell_type": "markdown",
   "metadata": {},
   "source": [
    "## Concatenate 2 dataframes into 1"
   ]
  },
  {
   "cell_type": "code",
   "execution_count": 6,
   "metadata": {},
   "outputs": [],
   "source": [
    "df_peh = pd.concat([df_npk, df_l], ignore_index=True)"
   ]
  },
  {
   "cell_type": "code",
   "execution_count": 7,
   "metadata": {},
   "outputs": [
    {
     "data": {
      "text/plain": [
       "(583, 4)"
      ]
     },
     "execution_count": 7,
     "metadata": {},
     "output_type": "execute_result"
    }
   ],
   "source": [
    "df_peh.shape"
   ]
  },
  {
   "cell_type": "markdown",
   "metadata": {},
   "source": [
    "## Exploring dataset"
   ]
  },
  {
   "cell_type": "code",
   "execution_count": 8,
   "metadata": {},
   "outputs": [
    {
     "name": "stdout",
     "output_type": "stream",
     "text": [
      "<class 'pandas.core.frame.DataFrame'>\n",
      "RangeIndex: 583 entries, 0 to 582\n",
      "Data columns (total 4 columns):\n",
      " #   Column      Non-Null Count  Dtype \n",
      "---  ------      --------------  ----- \n",
      " 0   Unnamed: 0  583 non-null    int64 \n",
      " 1   inci        578 non-null    object\n",
      " 2   title       583 non-null    object\n",
      " 3   peh_class   583 non-null    object\n",
      "dtypes: int64(1), object(3)\n",
      "memory usage: 18.3+ KB\n"
     ]
    }
   ],
   "source": [
    "df_peh.info()"
   ]
  },
  {
   "cell_type": "code",
   "execution_count": 9,
   "metadata": {},
   "outputs": [
    {
     "data": {
      "text/plain": [
       "Unnamed: 0     int64\n",
       "inci          object\n",
       "title         object\n",
       "peh_class     object\n",
       "dtype: object"
      ]
     },
     "execution_count": 9,
     "metadata": {},
     "output_type": "execute_result"
    }
   ],
   "source": [
    "df_peh.dtypes"
   ]
  },
  {
   "cell_type": "code",
   "execution_count": 10,
   "metadata": {},
   "outputs": [
    {
     "data": {
      "text/plain": [
       "Index(['Unnamed: 0', 'inci', 'title', 'peh_class'], dtype='object')"
      ]
     },
     "execution_count": 10,
     "metadata": {},
     "output_type": "execute_result"
    }
   ],
   "source": [
    "df_peh.columns"
   ]
  },
  {
   "cell_type": "code",
   "execution_count": 11,
   "metadata": {},
   "outputs": [],
   "source": [
    "df_peh.drop(['Unnamed: 0'], axis=1, inplace=True)"
   ]
  },
  {
   "cell_type": "markdown",
   "metadata": {},
   "source": [
    "## Check how ingredients description looks initially"
   ]
  },
  {
   "cell_type": "code",
   "execution_count": 12,
   "metadata": {},
   "outputs": [
    {
     "data": {
      "text/plain": [
       "0       Aqua [Water],Cetyl alcohol,Behenamidopropyl d...\n",
       "1       Aqua [Water],Cetyl alcohol,Behenamidopropyl d...\n",
       "2       Aqua [Water], Cetyl alcohol, Behenamidopropyl...\n",
       "3       Aqua [Water] (Eau), Cetyl alcohol, Stearyl al...\n",
       "4       Aqua [Water] (Eau), Stearyl alcohol, Behenami...\n",
       "                             ...                        \n",
       "578    Aloe Barbadensis (Aloe Vera) Leaf Juice,Nelumb...\n",
       "579    Aqua,Sodium Hyaluronate,Benzyl Alcohol,Dehydro...\n",
       "580    Aqua,Sapindus Mukurossi Peel Floral Water,Humu...\n",
       "581    Linum Usitatissimum (Linseed) Seed Extract,Gly...\n",
       "582    Aqua (Water),Linum Usitatissimum (Linseed) See...\n",
       "Name: inci, Length: 583, dtype: object"
      ]
     },
     "execution_count": 12,
     "metadata": {},
     "output_type": "execute_result"
    }
   ],
   "source": [
    "df_peh['inci']"
   ]
  },
  {
   "cell_type": "markdown",
   "metadata": {},
   "source": [
    "# Data cleaning"
   ]
  },
  {
   "cell_type": "markdown",
   "metadata": {},
   "source": [
    "## Find nan values"
   ]
  },
  {
   "cell_type": "code",
   "execution_count": 13,
   "metadata": {},
   "outputs": [
    {
     "data": {
      "text/plain": [
       "[27, 123, 124, 145, 146]"
      ]
     },
     "execution_count": 13,
     "metadata": {},
     "output_type": "execute_result"
    }
   ],
   "source": [
    "rows_with_nan = [index for index, row in df_peh.iterrows() if row.isnull().any()]\n",
    "rows_with_nan"
   ]
  },
  {
   "cell_type": "code",
   "execution_count": 14,
   "metadata": {},
   "outputs": [
    {
     "name": "stdout",
     "output_type": "stream",
     "text": [
      "BIOLAVEN x NAPIEKNEWLOSY.PL Zestaw szampon + odżywka z olejem z pestek winogron 2x300ml\n",
      "ANWEN Wegański zestaw odżywek do włosów o średniej porowatości 3x100ml\n",
      "ANWEN Zestaw odżywek do włosów o średniej porowatości 3x100ml\n",
      "CAFE MIMI Maska z keratyną – do włosów farbowanych i zniszczonych 110ml\n",
      "CAFE MIMI Maska z proteinami – do włosów cienkich i łamliwych 110ml\n"
     ]
    }
   ],
   "source": [
    "for i in rows_with_nan:\n",
    "    print(df_peh['title'][i])   "
   ]
  },
  {
   "cell_type": "markdown",
   "metadata": {},
   "source": [
    "## Fill or drop nan values\n",
    "Because there are only few missing ingredient list - I've decided to add 2 of them manually and remove the rest."
   ]
  },
  {
   "cell_type": "code",
   "execution_count": 15,
   "metadata": {},
   "outputs": [],
   "source": [
    "df_peh['inci'][145] = 'Aqua, Plumeria Alba (Frangipani) Flower Water, Cetearyl Alcohol, Vegetable Glyсerin, Ginkgo Biloba Leaf Extract, Zingiber Officinale (Ginger) Root Extract, Butyrospermum Parkii (Shea) Oil, Caprylic/Capric Triglyceride, Hydrolyzed Keratin, Persea Gratissima (Avocado) Oil, Behentrimonium Chloride, Hydroxypropyl Guar, Hydroxypropyltrimonium chloride, Hydroxyethylcellulose, Panthenol, Perfume, Silicone Quaternium-18, Trideceth-6, Trideceth-12, Polyquaternium-10, Benzyl Alcohol, Benzoic Acid , Dehydroacetic Acid, Potassium Sorbate, Sodium Benzoate, Citric Acid,  Butylphenyl Methypropional, Linalool, Limonene, Citronellol, Coumarin, Geraniol, Citral'\n",
    "# df_peh['inci'][145]"
   ]
  },
  {
   "cell_type": "code",
   "execution_count": 16,
   "metadata": {},
   "outputs": [],
   "source": [
    "df_peh['inci'][146] = 'Aqua, Malva Sylvestris (Mallow) Flower Water, Cetearyl Alcohol, Vegetable Glyсerin, Linum Usitatissimum (Flax) Seed  Extract, Bambusa Vulgaris (Bamboo) Extract, Caprylic/Capric Triglyceride, Cocos Nucifera (Coconut) Oil, Hydrolyzed Wheat Proteins , Hydrolyzed Rye, Hydrolyzed Oat Proteins, Behentrimonium Chloride,  Hydroxyethylcellulose,   Panthenol, Hydroxypropyl Guar,  Hydroxypropyltrimonium chloride, Silicone Quaternium-18, Trideceth-6, Trideceth-12, Polyquaternium-10, Perfume, Benzyl Alcohol, Benzoic Acid , Dehydroacetic Acid, Potassium Sorbate, Sodium Benzoate, Citric Acid, Hexyl Cinnamal, Benzyl Salicylate, Limonene, Linalool, Citronellol, Coumarin'\n",
    "# df_peh.loc[146]"
   ]
  },
  {
   "cell_type": "code",
   "execution_count": 17,
   "metadata": {},
   "outputs": [],
   "source": [
    "df_peh.drop([27], inplace=True)\n",
    "df_peh.drop([123], inplace=True)\n",
    "df_peh.drop([124], inplace=True)\n",
    "df_peh.reset_index(drop=True, inplace=True)\n",
    "# df_peh"
   ]
  },
  {
   "cell_type": "code",
   "execution_count": 18,
   "metadata": {},
   "outputs": [
    {
     "data": {
      "text/plain": [
       "inci         0\n",
       "title        0\n",
       "peh_class    0\n",
       "dtype: int64"
      ]
     },
     "execution_count": 18,
     "metadata": {},
     "output_type": "execute_result"
    }
   ],
   "source": [
    "df_peh.isnull().sum()"
   ]
  },
  {
   "cell_type": "markdown",
   "metadata": {},
   "source": [
    "## Ingredient list editing"
   ]
  },
  {
   "cell_type": "code",
   "execution_count": 19,
   "metadata": {},
   "outputs": [],
   "source": [
    "# Creating copy of the dataframe for editing so that original data remains intact\n",
    "df_peh_work = df_peh.copy()"
   ]
  },
  {
   "cell_type": "code",
   "execution_count": 20,
   "metadata": {},
   "outputs": [
    {
     "data": {
      "text/html": [
       "<div>\n",
       "<style scoped>\n",
       "    .dataframe tbody tr th:only-of-type {\n",
       "        vertical-align: middle;\n",
       "    }\n",
       "\n",
       "    .dataframe tbody tr th {\n",
       "        vertical-align: top;\n",
       "    }\n",
       "\n",
       "    .dataframe thead th {\n",
       "        text-align: right;\n",
       "    }\n",
       "</style>\n",
       "<table border=\"1\" class=\"dataframe\">\n",
       "  <thead>\n",
       "    <tr style=\"text-align: right;\">\n",
       "      <th></th>\n",
       "      <th>inci</th>\n",
       "      <th>title</th>\n",
       "      <th>peh_class</th>\n",
       "    </tr>\n",
       "  </thead>\n",
       "  <tbody>\n",
       "    <tr>\n",
       "      <th>0</th>\n",
       "      <td>Aqua [Water],Cetyl alcohol,Behenamidopropyl d...</td>\n",
       "      <td>ALKEMILLA Balsamo Arancio e Limone Odżywka do ...</td>\n",
       "      <td>E</td>\n",
       "    </tr>\n",
       "    <tr>\n",
       "      <th>1</th>\n",
       "      <td>Aqua [Water],Cetyl alcohol,Behenamidopropyl d...</td>\n",
       "      <td>ALKEMILLA Balsamo Cedro e Finocchio Odżywka do...</td>\n",
       "      <td>E</td>\n",
       "    </tr>\n",
       "    <tr>\n",
       "      <th>2</th>\n",
       "      <td>Aqua [Water], Cetyl alcohol, Behenamidopropyl...</td>\n",
       "      <td>ALKEMILLA Balsamo Lavendo e Eucalipto Odżywka ...</td>\n",
       "      <td>E</td>\n",
       "    </tr>\n",
       "    <tr>\n",
       "      <th>3</th>\n",
       "      <td>Aqua [Water] (Eau), Cetyl alcohol, Stearyl al...</td>\n",
       "      <td>ALKEMILLA K-HAIR Anti-Giallo Odżywka ochładzaj...</td>\n",
       "      <td>E</td>\n",
       "    </tr>\n",
       "    <tr>\n",
       "      <th>4</th>\n",
       "      <td>Aqua [Water] (Eau), Stearyl alcohol, Behenami...</td>\n",
       "      <td>ALKEMILLA K-HAIR Multiwitaminowa maska do włos...</td>\n",
       "      <td>E</td>\n",
       "    </tr>\n",
       "    <tr>\n",
       "      <th>...</th>\n",
       "      <td>...</td>\n",
       "      <td>...</td>\n",
       "      <td>...</td>\n",
       "    </tr>\n",
       "    <tr>\n",
       "      <th>575</th>\n",
       "      <td>Aloe Barbadensis (Aloe Vera) Leaf Juice,Nelumb...</td>\n",
       "      <td>Holika Holika – wielofunkcyjny, nawilżający że...</td>\n",
       "      <td>H</td>\n",
       "    </tr>\n",
       "    <tr>\n",
       "      <th>576</th>\n",
       "      <td>Aqua,Sodium Hyaluronate,Benzyl Alcohol,Dehydro...</td>\n",
       "      <td>Calaya – nawilżający żel hialuronowy, 2% (50 ml)</td>\n",
       "      <td>H</td>\n",
       "    </tr>\n",
       "    <tr>\n",
       "      <th>577</th>\n",
       "      <td>Aqua,Sapindus Mukurossi Peel Floral Water,Humu...</td>\n",
       "      <td>FITOKOSMETIK DROŻDŻE PIWNE AKTYWATOR WZROSTU –...</td>\n",
       "      <td>H</td>\n",
       "    </tr>\n",
       "    <tr>\n",
       "      <th>578</th>\n",
       "      <td>Linum Usitatissimum (Linseed) Seed Extract,Gly...</td>\n",
       "      <td>JESSICURL Rockin’ Ringlets Styling Potion No F...</td>\n",
       "      <td>H</td>\n",
       "    </tr>\n",
       "    <tr>\n",
       "      <th>579</th>\n",
       "      <td>Aqua (Water),Linum Usitatissimum (Linseed) See...</td>\n",
       "      <td>JESSICURL Gelebration Spray – krem do stylizac...</td>\n",
       "      <td>H</td>\n",
       "    </tr>\n",
       "  </tbody>\n",
       "</table>\n",
       "<p>580 rows × 3 columns</p>\n",
       "</div>"
      ],
      "text/plain": [
       "                                                  inci  \\\n",
       "0     Aqua [Water],Cetyl alcohol,Behenamidopropyl d...   \n",
       "1     Aqua [Water],Cetyl alcohol,Behenamidopropyl d...   \n",
       "2     Aqua [Water], Cetyl alcohol, Behenamidopropyl...   \n",
       "3     Aqua [Water] (Eau), Cetyl alcohol, Stearyl al...   \n",
       "4     Aqua [Water] (Eau), Stearyl alcohol, Behenami...   \n",
       "..                                                 ...   \n",
       "575  Aloe Barbadensis (Aloe Vera) Leaf Juice,Nelumb...   \n",
       "576  Aqua,Sodium Hyaluronate,Benzyl Alcohol,Dehydro...   \n",
       "577  Aqua,Sapindus Mukurossi Peel Floral Water,Humu...   \n",
       "578  Linum Usitatissimum (Linseed) Seed Extract,Gly...   \n",
       "579  Aqua (Water),Linum Usitatissimum (Linseed) See...   \n",
       "\n",
       "                                                 title peh_class  \n",
       "0    ALKEMILLA Balsamo Arancio e Limone Odżywka do ...         E  \n",
       "1    ALKEMILLA Balsamo Cedro e Finocchio Odżywka do...         E  \n",
       "2    ALKEMILLA Balsamo Lavendo e Eucalipto Odżywka ...         E  \n",
       "3    ALKEMILLA K-HAIR Anti-Giallo Odżywka ochładzaj...         E  \n",
       "4    ALKEMILLA K-HAIR Multiwitaminowa maska do włos...         E  \n",
       "..                                                 ...       ...  \n",
       "575  Holika Holika – wielofunkcyjny, nawilżający że...         H  \n",
       "576   Calaya – nawilżający żel hialuronowy, 2% (50 ml)         H  \n",
       "577  FITOKOSMETIK DROŻDŻE PIWNE AKTYWATOR WZROSTU –...         H  \n",
       "578  JESSICURL Rockin’ Ringlets Styling Potion No F...         H  \n",
       "579  JESSICURL Gelebration Spray – krem do stylizac...         H  \n",
       "\n",
       "[580 rows x 3 columns]"
      ]
     },
     "execution_count": 20,
     "metadata": {},
     "output_type": "execute_result"
    }
   ],
   "source": [
    "df_peh_work"
   ]
  },
  {
   "cell_type": "code",
   "execution_count": 21,
   "metadata": {},
   "outputs": [],
   "source": [
    "# This function unifies ingredient lists and split them into array of idividual ingredients\n",
    "def clean_and_split_data(inci_data):\n",
    "    cleanedData = inci_data.replace(\"'\", '')\n",
    "    cleanedData = cleanedData.replace(\"\\\\xa0\", '').replace(\"\\xa0\", '').lower()\n",
    "    cleanedData = cleanedData.replace(\"\\xad\", '')\n",
    "    cleanedData = cleanedData.replace(\"with infusion of\", ',')\n",
    "    cleanedData = cleanedData.replace(\"with infusions of\", ',')\n",
    "    cleanedData = cleanedData.replace(':','').replace(\"\\n\", '').replace('.','')\n",
    "    cleanedData = cleanedData.replace('*','').replace(\"()\", '')\n",
    "    cleanedData = cleanedData.replace(',,', ',').split(',')\n",
    "    return cleanedData\n"
   ]
  },
  {
   "cell_type": "code",
   "execution_count": 22,
   "metadata": {},
   "outputs": [
    {
     "name": "stdout",
     "output_type": "stream",
     "text": [
      "inci              Aqua [Water],Cetyl alcohol,Behenamidopropyl d...\n",
      "title            ALKEMILLA Balsamo Arancio e Limone Odżywka do ...\n",
      "peh_class                                                        E\n",
      "inci_as_array    [aqua [water], cetyl alcohol, behenamidopropyl...\n",
      "Name: 0, dtype: object\n"
     ]
    }
   ],
   "source": [
    "#Create new empty column for unified ingredient lists and type it as object\n",
    "df_peh_work['inci_as_array'] = np.nan\n",
    "df_peh_work['inci_as_array'] = df_peh_work['inci_as_array'].astype(object)\n",
    "\n",
    "for row_ind in range(0, len(df_peh_work['inci'])):\n",
    "    # each ingredient list need to be converted to string, to enable further editing in clean_and_split_data function\n",
    "    inci_str = str(df_peh_work.loc[row_ind]['inci'])\n",
    "    inci_list = clean_and_split_data(inci_str)\n",
    "    df_peh_work.at[row_ind, 'inci_as_array'] = inci_list\n",
    "    \n",
    "print(df_peh_work.loc[0])"
   ]
  },
  {
   "cell_type": "markdown",
   "metadata": {},
   "source": [
    "### Unifying ingredients names"
   ]
  },
  {
   "cell_type": "code",
   "execution_count": 23,
   "metadata": {},
   "outputs": [
    {
     "data": {
      "text/plain": [
       "['aqua [water]',\n",
       " 'cetyl alcohol',\n",
       " 'behenamidopropyl dimethylamine',\n",
       " 'butyrospermum parkii (shea butter) butter',\n",
       " 'sesamum indicum (sesame) seed oil ',\n",
       " 'citrus aurantium dulcis (orange) peel oil ',\n",
       " 'citrus limon (lemon) peel oil ',\n",
       " 'citrus aurantium dulcis (orange) flower extract ',\n",
       " 'calendula officinalis flower extract ',\n",
       " 'chamomilla recutita (matricaria) flower extract ',\n",
       " 'citrus limon (lemon) peel extract ',\n",
       " 'soy amino acids',\n",
       " 'wheat amino acids',\n",
       " 'arginine hcl',\n",
       " 'serine',\n",
       " 'threonine',\n",
       " 'lactic acid',\n",
       " 'sorbitol',\n",
       " 'benzyl alcohol',\n",
       " 'limonene',\n",
       " 'sodium benzoate',\n",
       " 'sodium dehydroacetate',\n",
       " 'glycerin',\n",
       " 'xanthan gum z kontrolowanych upraw ekologicznych']"
      ]
     },
     "execution_count": 23,
     "metadata": {},
     "output_type": "execute_result"
    }
   ],
   "source": [
    "# Ingredient list example before the unifying\n",
    "df_peh_work['inci_as_array'][0]"
   ]
  },
  {
   "cell_type": "code",
   "execution_count": 24,
   "metadata": {},
   "outputs": [],
   "source": [
    "for product in range(0, len(df_peh_work['inci_as_array'])):\n",
    "    inci_splitted = df_peh_work['inci_as_array'][product]\n",
    "    for i in range(0, len(inci_splitted)):\n",
    "        current_ingredient = inci_splitted[i]\n",
    "#         if 'aqua' in current_ingredient or 'aqua' in current_ingredient or 'water' in current_ingredient or 'Water' in current_ingredient or 'woda' in current_ingredient:\n",
    "        if 'aqua' and 'water' in current_ingredient:\n",
    "            inci_splitted[i] = 'aqua'\n",
    "        elif 'xanthan' in current_ingredient:\n",
    "            inci_splitted[i] = 'xanthan gum'\n",
    "        elif 'parfum' in current_ingredient:\n",
    "            inci_splitted[i] = 'parfum'\n",
    "        elif \"(\" in current_ingredient:\n",
    "            while \"(\" in current_ingredient and \")\" in current_ingredient:\n",
    "                opening_par_index = current_ingredient.find(\"(\")\n",
    "                closing_par_index = current_ingredient.find(\")\", opening_par_index)\n",
    "                current_ingredient = current_ingredient[:opening_par_index] + current_ingredient[closing_par_index + 1:]\n",
    "            \n",
    "            inci_splitted[i] = current_ingredient\n",
    "\n",
    "        current_ingredient = None"
   ]
  },
  {
   "cell_type": "code",
   "execution_count": 25,
   "metadata": {
    "scrolled": false
   },
   "outputs": [],
   "source": [
    "for product in range(0, len(df_peh_work['inci_as_array'])):\n",
    "    inci_splitted = df_peh_work['inci_as_array'][product]\n",
    "    for index, current_ingredient in enumerate(inci_splitted):\n",
    "        if \"ż\" in current_ingredient or 'ć' in current_ingredient or 'ł' in current_ingredient or 'ą' in current_ingredient or 'ę' in current_ingredient:\n",
    "            inci_splitted.remove(current_ingredient)\n",
    "            \n",
    "            \n",
    "#     print(inci_splitted) "
   ]
  },
  {
   "cell_type": "code",
   "execution_count": 26,
   "metadata": {},
   "outputs": [
    {
     "name": "stdout",
     "output_type": "stream",
     "text": [
      "butyrospermum parkii butter\n",
      "butyrospermum parkii butter\n",
      "butyrospermum parkii butter\n",
      "butyrospermum parkii butter\n"
     ]
    }
   ],
   "source": [
    "# Looking for lists with unwanted signs and text\n",
    "for product in range(0, len(df_peh_work['inci_as_array'])):\n",
    "    inci_splitted = df_peh_work['inci_as_array'][product]\n",
    "    for i in range(0, len(inci_splitted)):\n",
    "        current_ingredient = inci_splitted[i]\n",
    "        if '♥' in current_ingredient:\n",
    "            inci_splitted[i] = 'butyrospermum parkii butter' # replacing this sign doesnt work so I have to replace the whole string \n",
    "            print(inci_splitted[i])\n",
    "        elif 'scent and love' in current_ingredient:\n",
    "            df_peh_work['inci_as_array'][product].pop(-1) #this text is always on the last position"
   ]
  },
  {
   "cell_type": "code",
   "execution_count": 27,
   "metadata": {},
   "outputs": [],
   "source": [
    "# Removing irrelevant suffixes\n",
    "for product in range(0, len(df_peh_work['inci_as_array'])):\n",
    "    inci_splitted = df_peh_work['inci_as_array'][product]\n",
    "    for i in range(0, len(inci_splitted)):\n",
    "        current_ingredient = inci_splitted[i]\n",
    "        if \"z kontrol\" in current_ingredient:\n",
    "            end_synt_index = current_ingredient.find(\"z kontrol\")\n",
    "            current_ingredient = current_ingredient[:end_synt_index]\n",
    "            \n",
    "        elif \"z ekolo\" in current_ingredient:\n",
    "            end_synt_index = current_ingredient.find(\"z ekolo\")\n",
    "            current_ingredient = current_ingredient[:end_synt_index]\n",
    "            \n",
    "        elif \"z rolni\" in current_ingredient:\n",
    "            end_synt_index = current_ingredient.find(\"z rolni\")\n",
    "            current_ingredient = current_ingredient[:end_synt_index]\n",
    "        inci_splitted[i] = current_ingredient"
   ]
  },
  {
   "cell_type": "code",
   "execution_count": 28,
   "metadata": {},
   "outputs": [],
   "source": [
    "# Remove white spaces\n",
    "for product in range(0, len(df_peh_work['inci_as_array'])):\n",
    "    inci_splitted = df_peh_work['inci_as_array'][product]\n",
    "    for i in range(0, len(inci_splitted)):\n",
    "        inci_splitted[i] = inci_splitted[i].strip()"
   ]
  },
  {
   "cell_type": "code",
   "execution_count": 29,
   "metadata": {},
   "outputs": [
    {
     "data": {
      "text/plain": [
       "['aqua',\n",
       " 'cetyl alcohol',\n",
       " 'behenamidopropyl dimethylamine',\n",
       " 'butyrospermum parkii  butter',\n",
       " 'sesamum indicum  seed oil',\n",
       " 'citrus aurantium dulcis  peel oil',\n",
       " 'citrus limon  peel oil',\n",
       " 'citrus aurantium dulcis  flower extract',\n",
       " 'calendula officinalis flower extract',\n",
       " 'chamomilla recutita  flower extract',\n",
       " 'citrus limon  peel extract',\n",
       " 'soy amino acids',\n",
       " 'wheat amino acids',\n",
       " 'arginine hcl',\n",
       " 'serine',\n",
       " 'threonine',\n",
       " 'lactic acid',\n",
       " 'sorbitol',\n",
       " 'benzyl alcohol',\n",
       " 'limonene',\n",
       " 'sodium benzoate',\n",
       " 'sodium dehydroacetate',\n",
       " 'glycerin',\n",
       " 'xanthan gum']"
      ]
     },
     "execution_count": 29,
     "metadata": {},
     "output_type": "execute_result"
    }
   ],
   "source": [
    "# Example ingredient list after cleaning\n",
    "df_peh_work['inci_as_array'][0]"
   ]
  },
  {
   "cell_type": "markdown",
   "metadata": {},
   "source": [
    "## Extract all ingredients"
   ]
  },
  {
   "cell_type": "code",
   "execution_count": 30,
   "metadata": {},
   "outputs": [
    {
     "name": "stdout",
     "output_type": "stream",
     "text": [
      "9152\n"
     ]
    }
   ],
   "source": [
    "all_ingredients = []\n",
    "for product in range(0, len(df_peh_work['inci_as_array'])):\n",
    "    inci_splitted = df_peh_work['inci_as_array'][product]\n",
    "    for i in range(0, len(inci_splitted)):\n",
    "        all_ingredients.append(inci_splitted[i])\n",
    "    \n",
    "print(len(all_ingredients))"
   ]
  },
  {
   "cell_type": "markdown",
   "metadata": {},
   "source": [
    "## Extract unique ingredients"
   ]
  },
  {
   "cell_type": "code",
   "execution_count": 31,
   "metadata": {},
   "outputs": [
    {
     "data": {
      "text/plain": [
       "1626"
      ]
     },
     "execution_count": 31,
     "metadata": {},
     "output_type": "execute_result"
    }
   ],
   "source": [
    "def unique(list1): \n",
    "    list_set = set(list1)  \n",
    "    unique_list = (list(list_set)) \n",
    "    return unique_list\n",
    "        \n",
    "all_unique = unique(all_ingredients)\n",
    "len(all_unique)"
   ]
  },
  {
   "cell_type": "markdown",
   "metadata": {},
   "source": [
    "# Create additional  features"
   ]
  },
  {
   "cell_type": "code",
   "execution_count": 32,
   "metadata": {},
   "outputs": [],
   "source": [
    "SLS_silicone = ['cetyl dimethicone', 'stearoxy dimethicone','stearyl dimethicone', 'stearyl methicone', 'dimethicone','trimethylsilylamodimethicone', 'trimethylsiloxysilicate', 'trisiloxane']\n",
    "no_SLS_silicone = ['dimethiconol','beheonoxy dimethicone','phenyl trimethicone','lauryl methicone copolyol']\n",
    "conditioner_silicone = ['cyclo-x-siloxane','amodimethicone', 'dimethicone copolyol'] \n",
    "water_silicone = ['peg dimethicone', 'ppg-20 dimethicone','peg-15 Dimethicone','peg-12 dimethicone','peg-7 amodimethicone','pg-propyl silanetriol','dimethicone copolymer','lauryl methicone copolyol','hydroxypropyl polysiloxane','silicone quaternium-8']\n",
    "evaporate_silicone = ['decamethylcyclotetrasiloxane','hexamethylcyclotrisiloxane','hexamethyldisiloxane','octamethylcyclotetrasiloxane','cyclopentasiloxane']"
   ]
  },
  {
   "cell_type": "code",
   "execution_count": 33,
   "metadata": {},
   "outputs": [],
   "source": [
    "silicones = SLS_silicone + no_SLS_silicone + conditioner_silicone + water_silicone + evaporate_silicone"
   ]
  },
  {
   "cell_type": "code",
   "execution_count": 34,
   "metadata": {},
   "outputs": [],
   "source": [
    "harmful_preservative = ['disodium edta', 'methylisothiazolinone', 'triclosan', 'iodopropynyl butylcarbamate', 'imidazolidinyl urea', 'cetrimoniumbromide', 'diazolidinyl urea', 'cetylpyridinium chloride', 'phenoxyethanol', 'tetrasodium edta', 'chlorhexidine']"
   ]
  },
  {
   "cell_type": "code",
   "execution_count": 35,
   "metadata": {},
   "outputs": [],
   "source": [
    "df_peh_work['Harm_preservatives'] = np.nan\n",
    "df_peh_work['Harm_preservatives'] = df_peh_work['Harm_preservatives'].astype(object)\n",
    "df_peh_work['CG'] = np.nan\n",
    "df_peh_work['CG'] = df_peh_work['CG'].astype(object)\n",
    "\n",
    "for product in range(0, len(df_peh_work['inci_as_array'])):\n",
    "    inci_splitted = df_peh_work['inci_as_array'][product]\n",
    "    has_silicone = 0\n",
    "    has_harmful = 0\n",
    "    for i in range(0, len(inci_splitted)):\n",
    "        if any(sil in inci_splitted[i] for sil in silicones):\n",
    "            has_silicone += 1\n",
    "        if any(harm in inci_splitted[i] for harm in harmful_preservative):\n",
    "            has_harmful += 1\n",
    "        \n",
    "    df_peh_work.loc[product, 'CG'] = has_silicone\n",
    "    df_peh_work.loc[product, 'Harm_preservatives'] = has_harmful"
   ]
  },
  {
   "cell_type": "markdown",
   "metadata": {},
   "source": [
    "# Encode categorical variables"
   ]
  },
  {
   "cell_type": "code",
   "execution_count": 36,
   "metadata": {
    "scrolled": true
   },
   "outputs": [],
   "source": [
    "for unique in all_unique:\n",
    "    df_peh_work[unique] = 0"
   ]
  },
  {
   "cell_type": "code",
   "execution_count": 37,
   "metadata": {},
   "outputs": [],
   "source": [
    "for product in range(0, len(df_peh_work['inci_as_array'])):\n",
    "    inci_splitted = df_peh_work.loc[product, 'inci_as_array']\n",
    "    for i in range(0, len(inci_splitted)):\n",
    "        ingredient = inci_splitted[i]\n",
    "        df_peh_work.loc[product, ingredient] = 1\n",
    "            "
   ]
  },
  {
   "cell_type": "markdown",
   "metadata": {},
   "source": [
    "To handle multiclassification problem we had to extract unique ingredients and for every product verify it's occurrence. As a result of this operation we've got dataset with high dimensionality. Let's explote it further."
   ]
  },
  {
   "cell_type": "markdown",
   "metadata": {},
   "source": [
    "# Exploratory data analysis"
   ]
  },
  {
   "cell_type": "markdown",
   "metadata": {},
   "source": [
    "Products were sorted by PEH class."
   ]
  },
  {
   "cell_type": "code",
   "execution_count": 38,
   "metadata": {},
   "outputs": [
    {
     "data": {
      "text/plain": [
       "P    124\n",
       "H    184\n",
       "E    272\n",
       "Name: peh_class, dtype: int64"
      ]
     },
     "execution_count": 38,
     "metadata": {},
     "output_type": "execute_result"
    }
   ],
   "source": [
    "peh_filter = df_peh_work['peh_class'].value_counts()\n",
    "peh_filter_sorted = peh_filter.sort_values(ascending=True)\n",
    "peh_filter_sorted"
   ]
  },
  {
   "cell_type": "code",
   "execution_count": 39,
   "metadata": {},
   "outputs": [],
   "source": [
    "def make_bar_plot(x_values, y_values, data, title, xlabel, ylabel, xticks):\n",
    "    plt.figure(figsize=(15,8))\n",
    "    ax = sns.barplot(x=x_values, y=y_values, data=data)\n",
    "    ax.set_title(title, fontsize=15)\n",
    "    ax.set(xlabel=xlabel, ylabel=ylabel)\n",
    "    ax.set_xticklabels(xticks)\n",
    "    for p in ax.patches:\n",
    "        ax.annotate(format(p.get_height()), (p.get_x() + p.get_width() / 2., p.get_height()), ha = 'center', va = 'center', xytext = (0, 10), textcoords = 'offset points')"
   ]
  },
  {
   "cell_type": "code",
   "execution_count": 40,
   "metadata": {},
   "outputs": [
    {
     "data": {
      "image/png": "[encoded data removed]",
      "text/plain": [
       "<Figure size 1080x576 with 1 Axes>"
      ]
     },
     "metadata": {
      "needs_background": "light"
     },
     "output_type": "display_data"
    }
   ],
   "source": [
    "make_bar_plot(peh_filter, peh_filter.values, peh_filter, 'Number of emolient, humectant and protein products','PEH products','Number of products',peh_filter_sorted.index)"
   ]
  },
  {
   "cell_type": "code",
   "execution_count": 42,
   "metadata": {},
   "outputs": [
    {
     "data": {
      "text/plain": [
       "4      1\n",
       "2     13\n",
       "1     19\n",
       "0    547\n",
       "Name: CG, dtype: int64"
      ]
     },
     "execution_count": 42,
     "metadata": {},
     "output_type": "execute_result"
    }
   ],
   "source": [
    "cg_filter = df_peh_work['CG'].value_counts()\n",
    "cg_filter_sorted = cg_filter.sort_index(ascending=False)\n",
    "cg_filter_sorted"
   ]
  },
  {
   "cell_type": "code",
   "execution_count": 50,
   "metadata": {},
   "outputs": [
    {
     "data": {
      "image/png": "[encoded data removed]",
      "text/plain": [
       "<Figure size 1080x576 with 1 Axes>"
      ]
     },
     "metadata": {
      "needs_background": "light"
     },
     "output_type": "display_data"
    }
   ],
   "source": [
    "make_bar_plot(cg_filter, cg_filter.values, cg_filter, 'Product with/without silicones','Number of silicones in a product','Number of products',cg_filter_sorted.index)"
   ]
  },
  {
   "cell_type": "markdown",
   "metadata": {},
   "source": [
    "Get percentage values of products with different number of silicones in it."
   ]
  },
  {
   "cell_type": "code",
   "execution_count": 66,
   "metadata": {},
   "outputs": [
    {
     "data": {
      "text/plain": [
       "<AxesSubplot:ylabel='Percentage of product with silicones'>"
      ]
     },
     "execution_count": 66,
     "metadata": {},
     "output_type": "execute_result"
    },
    {
     "data": {
      "image/png": "[encoded data removed]",
      "text/plain": [
       "<Figure size 504x504 with 1 Axes>"
      ]
     },
     "metadata": {},
     "output_type": "display_data"
    }
   ],
   "source": [
    "def percentage_values(series):\n",
    "    percentage_values = []\n",
    "    for value in series.values:\n",
    "        percentage_values.append((value/series.values.sum())*100)\n",
    "    return percentage_values\n",
    "\n",
    "\n",
    "#CG or not CG with labeled class +plot\n",
    "cg_prod_percentage = percentage_values(cg_filter_sorted)\n",
    "cg_prod_percentage_df = pd.DataFrame(\n",
    "    {'Number of silicones': cg_filter_sorted,\n",
    "     'Percentage of product with silicones': cg_prod_percentage \n",
    "    })\n",
    "cg_prod_percentage_df.plot.pie(y='Percentage of product with silicones', autopct='%.2f', fontsize=13, figsize=(7, 7))"
   ]
  },
  {
   "cell_type": "code",
   "execution_count": 67,
   "metadata": {},
   "outputs": [],
   "source": [
    "# Get number of product with harmful preservatives\n",
    "def get_harmful_by_peh(data, peh_type):\n",
    "    peh_filt = (data['peh_class'] == peh_type)\n",
    "    harm_by_peh = data.loc[peh_filt, 'Harm_preservatives'].value_counts()\n",
    "    harm_by_peh = harm_by_peh.sort_index(ascending=True)\n",
    "#     df_harm_by_peh = pd.DataFrame(harm_by_peh)\n",
    "#     df_harm_by_peh_final = df_harm_by_peh.rename(columns={\"Harm_preservatives\": peh_type}).sort_index()\n",
    "    return(harm_by_peh)"
   ]
  },
  {
   "cell_type": "code",
   "execution_count": 80,
   "metadata": {},
   "outputs": [
    {
     "data": {
      "text/plain": [
       "([190, 65, 15, 1, 1, 122, 47, 15, 67, 55, 2],\n",
       " [0, 1, 2, 3, 4, 0, 1, 2, 0, 1, 2])"
      ]
     },
     "execution_count": 80,
     "metadata": {},
     "output_type": "execute_result"
    }
   ],
   "source": [
    "peh_list = peh_filter.values\n",
    "peh_list_names = peh_filter.index\n",
    "\n",
    "#populate harmful preservatives list\n",
    "def harmful_pres_vs_peh_class(peh_list, peh_list_names):\n",
    "    harm_by_peh_all = []\n",
    "    harm_by_peh_all_names = []\n",
    "\n",
    "    for peh_type in peh_list_names:\n",
    "        harm_list = get_harmful_by_peh(df_peh_work, peh_type)\n",
    "        harm_by_peh_all += harm_list.values.tolist()\n",
    "        harm_by_peh_all_names += harm_list.index.tolist()\n",
    "    return harm_by_peh_all, harm_by_peh_all_names\n",
    "\n",
    "harmful_pres_vs_peh_class(peh_list, peh_list_names)"
   ]
  },
  {
   "cell_type": "code",
   "execution_count": 83,
   "metadata": {},
   "outputs": [
    {
     "data": {
      "image/png": "[encoded data removed]",
      "text/plain": [
       "<Figure size 936x720 with 1 Axes>"
      ]
     },
     "metadata": {},
     "output_type": "display_data"
    }
   ],
   "source": [
    "# Create colors\n",
    "a, b, c=[plt.cm.Blues, plt.cm.Reds, plt.cm.Greens]\n",
    "textprops={'size': 'x-large'}\n",
    "# First Ring (outside)\n",
    "fig, ax = plt.subplots(figsize=(13,10))\n",
    "mypie, _ = ax.pie(peh_list, radius=3, labels=peh_list_names, colors=[a(0.6), b(0.6), c(0.6)], labeldistance=0.9, textprops=textprops)\n",
    "plt.setp( mypie, width=0.7, edgecolor='white')\n",
    " \n",
    "# Second Ring (Inside)\n",
    "mypie2, _ = ax.pie(harm_by_peh_all, radius=3-0.7, labels=harm_by_peh_names, labeldistance=0.9, colors=[a(0.6), a(0.5), a(0.4), a(0.3), a(0.2), b(0.5), b(0.4), b(0.3), c(0.5), c(0.4), c(0.3)], textprops=textprops)\n",
    "plt.setp( mypie2, width=0.7, edgecolor='white')\n",
    "plt.margins(0,0)\n",
    "ax.set_title(\"Number of products with harmful preservatives grouped by peh\", fontsize=17)\n",
    "ax.axis('equal')\n",
    "\n",
    "# first_legend   = plt.legend(patches1, ['edible','poisonous'], loc=\"upper left\", fontsize=15)\n",
    "# second_ledgend = plt.legend(patches2, pop_labels, loc=\"best\",fontsize=13)\n",
    "\n",
    "# show it\n",
    "plt.show()"
   ]
  },
  {
   "cell_type": "code",
   "execution_count": 1,
   "metadata": {},
   "outputs": [],
   "source": [
    "#Mean number of ingredients for each product +plot\n",
    "# df_peh_work['Mean number of ingredients'] = .apply(lambda x: int(x.split('-')[0]))\n",
    "\n",
    "# df_peh_work['Mean number of ingredients'] = [len(df_peh_work['inci_as_array'][x]) for x in df_peh_work['inci_as_array']]\n",
    "# df_peh_work.head()"
   ]
  },
  {
   "cell_type": "code",
   "execution_count": null,
   "metadata": {},
   "outputs": [],
   "source": [
    "#Products with protein , with natural oils/butters: + rodzaje + wykresy"
   ]
  },
  {
   "cell_type": "markdown",
   "metadata": {},
   "source": [
    "# Prepare dataset for training"
   ]
  },
  {
   "cell_type": "code",
   "execution_count": 67,
   "metadata": {},
   "outputs": [],
   "source": [
    "df_final = df_peh_work.drop(df_peh_work.columns[[0, 1, 3, 4, 5]], axis=1)\n",
    "# df_final.head()"
   ]
  },
  {
   "cell_type": "code",
   "execution_count": 68,
   "metadata": {},
   "outputs": [],
   "source": [
    "df_shuffled=df_final.sample(frac=1).reset_index(drop=True)\n",
    "# df_shuffled.head()"
   ]
  },
  {
   "cell_type": "code",
   "execution_count": 69,
   "metadata": {},
   "outputs": [
    {
     "data": {
      "text/plain": [
       "70    H\n",
       "71    H\n",
       "72    E\n",
       "73    P\n",
       "74    H\n",
       "75    E\n",
       "Name: peh_class, dtype: object"
      ]
     },
     "execution_count": 69,
     "metadata": {},
     "output_type": "execute_result"
    }
   ],
   "source": [
    "#Check if the data were shuffled\n",
    "df_shuffled.loc[70:75, 'peh_class']"
   ]
  },
  {
   "cell_type": "markdown",
   "metadata": {},
   "source": [
    "## Save cleaned dataset to csv file for the future projects"
   ]
  },
  {
   "cell_type": "code",
   "execution_count": 90,
   "metadata": {},
   "outputs": [],
   "source": [
    "path_to_output = r'C:\\Users\\Pszczółka\\Projects\\Data_Science_Projects\\Clustering_PEH_dataset'\n",
    "df_shuffled.to_csv(path_to_output + r'\\PEH_dataset_clustering.csv')"
   ]
  },
  {
   "cell_type": "markdown",
   "metadata": {},
   "source": [
    "## Split dataset into training and testing part"
   ]
  },
  {
   "cell_type": "code",
   "execution_count": 62,
   "metadata": {},
   "outputs": [],
   "source": [
    "X = df_shuffled.iloc[:,1:]\n",
    "y = df_shuffled.iloc[:, 0]\n",
    "X_train, X_test, y_train, y_test = train_test_split(X, y, test_size=0.33, random_state=42)"
   ]
  },
  {
   "cell_type": "code",
   "execution_count": 63,
   "metadata": {},
   "outputs": [
    {
     "data": {
      "text/plain": [
       "(388, 1627)"
      ]
     },
     "execution_count": 63,
     "metadata": {},
     "output_type": "execute_result"
    }
   ],
   "source": [
    "X_train.shape"
   ]
  },
  {
   "cell_type": "code",
   "execution_count": 64,
   "metadata": {},
   "outputs": [
    {
     "data": {
      "text/plain": [
       "(192, 1627)"
      ]
     },
     "execution_count": 64,
     "metadata": {},
     "output_type": "execute_result"
    }
   ],
   "source": [
    "X_test.shape"
   ]
  },
  {
   "cell_type": "markdown",
   "metadata": {},
   "source": [
    "# Compare different ML models for multiclassification"
   ]
  },
  {
   "cell_type": "markdown",
   "metadata": {},
   "source": [
    "# KNeighbours Classifier"
   ]
  },
  {
   "cell_type": "code",
   "execution_count": 65,
   "metadata": {},
   "outputs": [
    {
     "name": "stdout",
     "output_type": "stream",
     "text": [
      "Accuracy: 0.5833333333333334\n"
     ]
    }
   ],
   "source": [
    "knn = KNeighborsClassifier(n_neighbors = 7).fit(X_train, y_train) \n",
    "y_pred = knn.predict(X_test)\n",
    "print(\"Accuracy:\",metrics.accuracy_score(y_test, y_pred))"
   ]
  },
  {
   "cell_type": "markdown",
   "metadata": {},
   "source": [
    "## Decision tree classifier"
   ]
  },
  {
   "cell_type": "code",
   "execution_count": 67,
   "metadata": {},
   "outputs": [
    {
     "name": "stdout",
     "output_type": "stream",
     "text": [
      "Accuracy: 0.5833333333333334\n"
     ]
    }
   ],
   "source": [
    "dtree_model = DecisionTreeClassifier(max_depth = 4).fit(X_train, y_train) \n",
    "dtree_predictions = dtree_model.predict(X_test)\n",
    "print(\"Accuracy:\",metrics.accuracy_score(y_test, dtree_predictions))"
   ]
  },
  {
   "cell_type": "markdown",
   "metadata": {},
   "source": [
    "## Support vector classifier"
   ]
  },
  {
   "cell_type": "code",
   "execution_count": 79,
   "metadata": {},
   "outputs": [
    {
     "name": "stdout",
     "output_type": "stream",
     "text": [
      "Accuracy: 0.6875 \n",
      "Decision function shape:  ovr\n"
     ]
    }
   ],
   "source": [
    "svm_model_linear = SVC(kernel = 'linear', C = 1).fit(X_train, y_train) \n",
    "svm_predictions = svm_model_linear.predict(X_test) \n",
    "print(\"Accuracy:\",metrics.accuracy_score(y_test, svm_predictions), \"\\nDecision function shape: \", svm_model_linear.decision_function_shape)"
   ]
  },
  {
   "cell_type": "code",
   "execution_count": null,
   "metadata": {},
   "outputs": [],
   "source": []
  },
  {
   "cell_type": "code",
   "execution_count": 69,
   "metadata": {},
   "outputs": [
    {
     "name": "stdout",
     "output_type": "stream",
     "text": [
      "              precision    recall  f1-score   support\n",
      "\n",
      "           E       0.71      0.79      0.75        92\n",
      "           H       0.69      0.58      0.63        59\n",
      "           P       0.62      0.61      0.62        41\n",
      "\n",
      "    accuracy                           0.69       192\n",
      "   macro avg       0.68      0.66      0.67       192\n",
      "weighted avg       0.69      0.69      0.68       192\n",
      "\n"
     ]
    }
   ],
   "source": [
    "from sklearn.metrics import classification_report\n",
    "\n",
    "print(classification_report(y_test, svm_predictions))"
   ]
  },
  {
   "cell_type": "code",
   "execution_count": 81,
   "metadata": {},
   "outputs": [
    {
     "data": {
      "text/plain": [
       "<sklearn.metrics._plot.confusion_matrix.ConfusionMatrixDisplay at 0x166fcceeac0>"
      ]
     },
     "execution_count": 81,
     "metadata": {},
     "output_type": "execute_result"
    },
    {
     "data": {
      "image/png": "[encoded data removed]",
      "text/plain": [
       "<Figure size 432x288 with 2 Axes>"
      ]
     },
     "metadata": {
      "needs_background": "light"
     },
     "output_type": "display_data"
    }
   ],
   "source": [
    "plot_confusion_matrix(svm_model_linear,\n",
    "                                    X_test, y_test,\n",
    "                                    cmap=plt.cm.Blues)"
   ]
  },
  {
   "cell_type": "markdown",
   "metadata": {},
   "source": [
    "# Hyperparameter tuning for SVC"
   ]
  },
  {
   "cell_type": "code",
   "execution_count": 89,
   "metadata": {},
   "outputs": [
    {
     "name": "stdout",
     "output_type": "stream",
     "text": [
      "SVC(C=1000, gamma=0.001)\n"
     ]
    }
   ],
   "source": [
    "param_grid = {'C':[1,10,100,1000],'gamma':[1,0.1,0.001,0.0001], 'kernel':['linear','rbf']}\n",
    "grid = GridSearchCV(estimator=SVC(), param_grid=param_grid, verbose=2)\n",
    "grid.fit(X_train,y_train)\n",
    "print(grid.best_estimator_)"
   ]
  },
  {
   "cell_type": "code",
   "execution_count": 88,
   "metadata": {},
   "outputs": [
    {
     "name": "stdout",
     "output_type": "stream",
     "text": [
      "              precision    recall  f1-score   support\n",
      "\n",
      "           E       0.70      0.78      0.74        92\n",
      "           H       0.67      0.56      0.61        59\n",
      "           P       0.62      0.61      0.62        41\n",
      "\n",
      "    accuracy                           0.68       192\n",
      "   macro avg       0.67      0.65      0.66       192\n",
      "weighted avg       0.68      0.68      0.67       192\n",
      "\n"
     ]
    }
   ],
   "source": [
    "svc_tunned_predict = grid.predict(X_test)\n",
    "print(classification_report(y_test,svc_tunned_predict))"
   ]
  },
  {
   "cell_type": "code",
   "execution_count": 72,
   "metadata": {},
   "outputs": [
    {
     "name": "stdout",
     "output_type": "stream",
     "text": [
      "Accuracy from metrics: 0.5677083333333334\n"
     ]
    }
   ],
   "source": [
    "from sklearn.naive_bayes import GaussianNB \n",
    "gnb = GaussianNB().fit(X_train, y_train) \n",
    "gnb_predictions = gnb.predict(X_test) \n",
    "\n",
    "print(\"Accuracy from metrics:\",metrics.accuracy_score(y_test, gnb_predictions))"
   ]
  },
  {
   "cell_type": "code",
   "execution_count": 73,
   "metadata": {},
   "outputs": [
    {
     "name": "stdout",
     "output_type": "stream",
     "text": [
      "Accuracy:  0.6875\n"
     ]
    }
   ],
   "source": [
    "from sklearn.ensemble import RandomForestClassifier\n",
    "random_for = RandomForestClassifier()\n",
    "random_for.fit(X_train, y_train)\n",
    "rf_predictions = random_for.predict(X_test)\n",
    "print(\"Accuracy: \",metrics.accuracy_score(y_test, rf_predictions))"
   ]
  },
  {
   "cell_type": "code",
   "execution_count": 82,
   "metadata": {},
   "outputs": [
    {
     "data": {
      "text/plain": [
       "<sklearn.metrics._plot.confusion_matrix.ConfusionMatrixDisplay at 0x166fddca4f0>"
      ]
     },
     "execution_count": 82,
     "metadata": {},
     "output_type": "execute_result"
    },
    {
     "data": {
      "image/png": "[encoded data removed]",
      "text/plain": [
       "<Figure size 432x288 with 2 Axes>"
      ]
     },
     "metadata": {
      "needs_background": "light"
     },
     "output_type": "display_data"
    }
   ],
   "source": [
    "plot_confusion_matrix(random_for,\n",
    "                            X_test, y_test,\n",
    "                            cmap=plt.cm.viridis)"
   ]
  },
  {
   "cell_type": "code",
   "execution_count": null,
   "metadata": {},
   "outputs": [],
   "source": [
    "# Analysis the confusion matrix\n",
    "#Add statistical analysis"
   ]
  },
  {
   "cell_type": "code",
   "execution_count": 75,
   "metadata": {},
   "outputs": [
    {
     "name": "stdout",
     "output_type": "stream",
     "text": [
      "Accuracy:  0.6875\n"
     ]
    }
   ],
   "source": [
    "snn_classifier = MLPClassifier(max_iter=300)\n",
    "snn_classifier.fit(X_train, y_train)\n",
    "snn_predictions = snn_classifier.predict(X_test)\n",
    "print(\"Accuracy: \",metrics.accuracy_score(y_test, snn_predictions))"
   ]
  },
  {
   "cell_type": "code",
   "execution_count": 83,
   "metadata": {},
   "outputs": [
    {
     "data": {
      "text/plain": [
       "<sklearn.metrics._plot.confusion_matrix.ConfusionMatrixDisplay at 0x16683fcf490>"
      ]
     },
     "execution_count": 83,
     "metadata": {},
     "output_type": "execute_result"
    },
    {
     "data": {
      "image/png": "[encoded data removed]",
      "text/plain": [
       "<Figure size 432x288 with 2 Axes>"
      ]
     },
     "metadata": {
      "needs_background": "light"
     },
     "output_type": "display_data"
    }
   ],
   "source": [
    "plot_confusion_matrix(snn_classifier,\n",
    "                                X_test, y_test,\n",
    "                                cmap=plt.cm.plasma)"
   ]
  },
  {
   "cell_type": "markdown",
   "metadata": {},
   "source": [
    "I've built several multiclass classifiers : KNeighboursClassifier, Decision Tree Classifier, SVC with a linear kernel, Gaussian Naive Bayes Classifier, Random Forest Classifier and one neural network (MLP classifier). Some of them achieve almost 70% accuracy which is a good score for a fist shot.\n",
    "\n",
    "Models have to be further tested."
   ]
  },
  {
   "cell_type": "code",
   "execution_count": null,
   "metadata": {},
   "outputs": [],
   "source": [
    "#Try xgboost and grid search for random forest ! "
   ]
  }
 ],
 "metadata": {
  "kernelspec": {
   "display_name": "Python 3",
   "language": "python",
   "name": "python3"
  },
  "language_info": {
   "codemirror_mode": {
    "name": "ipython",
    "version": 3
   },
   "file_extension": ".py",
   "mimetype": "text/x-python",
   "name": "python",
   "nbconvert_exporter": "python",
   "pygments_lexer": "ipython3",
   "version": "3.8.2"
  }
 },
 "nbformat": 4,
 "nbformat_minor": 4
}
